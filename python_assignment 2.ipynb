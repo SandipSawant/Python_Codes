{
 "cells": [
  {
   "cell_type": "markdown",
   "metadata": {},
   "source": [
    "# Python pattern problme using for loop"
   ]
  },
  {
   "cell_type": "code",
   "execution_count": 1,
   "metadata": {},
   "outputs": [
    {
     "name": "stdout",
     "output_type": "stream",
     "text": [
      "please enter a number of rows10\n",
      "*\n",
      "\n",
      "**\n",
      "\n",
      "***\n",
      "\n",
      "****\n",
      "\n",
      "*****\n",
      "\n",
      "****\n",
      "\n",
      "***\n",
      "\n",
      "**\n",
      "\n",
      "*\n",
      "\n"
     ]
    }
   ],
   "source": [
    "n=int(input(\"please enter a number of rows\"))\n",
    "#n=10\n",
    "for i in range(1,n,1):\n",
    "    if i < (n//2):\n",
    "        for j in range(0,i):\n",
    "            print(\"*\", end=\"\")\n",
    "#        print('\\n')\n",
    "    else:    \n",
    "        for j in range(i,n):\n",
    "            print('*', end=\"\")\n",
    "    print('\\n')"
   ]
  },
  {
   "cell_type": "markdown",
   "metadata": {},
   "source": [
    "# 2. String reverse problem"
   ]
  },
  {
   "cell_type": "code",
   "execution_count": 20,
   "metadata": {},
   "outputs": [
    {
     "name": "stdout",
     "output_type": "stream",
     "text": [
      "please enter a number of rowsineuron\n",
      "norueni"
     ]
    }
   ],
   "source": [
    "n=input(\"please enter a string \")\n",
    "#n='ine'\n",
    "l=[]\n",
    "for i in range(len(n)):\n",
    "    l.append(n[i])\n",
    "#    print(l)\n",
    "    \n",
    "for i in range(len(n)):\n",
    "    print(l.pop(), end='')\n",
    "    "
   ]
  }
 ],
 "metadata": {
  "kernelspec": {
   "display_name": "Python 3",
   "language": "python",
   "name": "python3"
  },
  "language_info": {
   "codemirror_mode": {
    "name": "ipython",
    "version": 3
   },
   "file_extension": ".py",
   "mimetype": "text/x-python",
   "name": "python",
   "nbconvert_exporter": "python",
   "pygments_lexer": "ipython3",
   "version": "3.7.1"
  }
 },
 "nbformat": 4,
 "nbformat_minor": 2
}
